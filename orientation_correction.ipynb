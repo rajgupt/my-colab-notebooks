{
  "nbformat": 4,
  "nbformat_minor": 0,
  "metadata": {
    "colab": {
      "name": "orientation-correction.ipynb",
      "provenance": [],
      "private_outputs": true,
      "collapsed_sections": [],
      "toc_visible": true,
      "mount_file_id": "13kdXjhQ9HYUid9OkGTxuLuZh1pk8HuGV",
      "authorship_tag": "ABX9TyMVgKgkzE/1XNYtA0LFBOCs",
      "include_colab_link": true
    },
    "kernelspec": {
      "name": "python3",
      "display_name": "Python 3"
    }
  },
  "cells": [
    {
      "cell_type": "markdown",
      "metadata": {
        "id": "view-in-github",
        "colab_type": "text"
      },
      "source": [
        "<a href=\"https://colab.research.google.com/github/rajgupt/my-colab-notebooks/blob/master/orientation_correction.ipynb\" target=\"_parent\"><img src=\"https://colab.research.google.com/assets/colab-badge.svg\" alt=\"Open In Colab\"/></a>"
      ]
    },
    {
      "cell_type": "code",
      "metadata": {
        "id": "PSHr1HbLx4ZP",
        "colab_type": "code",
        "colab": {}
      },
      "source": [
        "import os\n",
        "import numpy as np\n",
        "import tensorflow as tf\n",
        "from tensorflow import keras\n",
        "from tensorflow.keras import layers"
      ],
      "execution_count": 0,
      "outputs": []
    },
    {
      "cell_type": "code",
      "metadata": {
        "id": "Lc-Y6m_cyLsa",
        "colab_type": "code",
        "colab": {}
      },
      "source": [
        "os.chdir('/content/drive/My Drive/colab/data')"
      ],
      "execution_count": 0,
      "outputs": []
    },
    {
      "cell_type": "code",
      "metadata": {
        "id": "0QsjE5IFyNBG",
        "colab_type": "code",
        "colab": {}
      },
      "source": [
        "!ls"
      ],
      "execution_count": 0,
      "outputs": []
    },
    {
      "cell_type": "markdown",
      "metadata": {
        "id": "PsfAfnaDy3yF",
        "colab_type": "text"
      },
      "source": [
        "Data source: https://guillaumejaume.github.io/FUNSD/dataset.zip"
      ]
    },
    {
      "cell_type": "markdown",
      "metadata": {
        "id": "dxdhSDGm3D18",
        "colab_type": "text"
      },
      "source": [
        "# Dataset Preparation"
      ]
    },
    {
      "cell_type": "code",
      "metadata": {
        "id": "2ftYmvB8-bHy",
        "colab_type": "code",
        "colab": {}
      },
      "source": [
        "!mkdir -p funsd_dataset/rotate/0"
      ],
      "execution_count": 0,
      "outputs": []
    },
    {
      "cell_type": "code",
      "metadata": {
        "id": "f9FH8qEu-gx_",
        "colab_type": "code",
        "colab": {}
      },
      "source": [
        "!cp funsd_dataset/training_data/images/* funsd_dataset/rotate/0/"
      ],
      "execution_count": 0,
      "outputs": []
    },
    {
      "cell_type": "code",
      "metadata": {
        "id": "RqDCdPO7-mES",
        "colab_type": "code",
        "colab": {}
      },
      "source": [
        "!cp funsd_dataset/testing_data/images/* funsd_dataset/rotate/0/"
      ],
      "execution_count": 0,
      "outputs": []
    },
    {
      "cell_type": "code",
      "metadata": {
        "id": "42QvNYUS0w69",
        "colab_type": "code",
        "colab": {}
      },
      "source": [
        "from PIL import Image\n",
        "import glob\n",
        "# if not os.path.exists('funsd_dataset/rotate'):\n",
        "images = glob.glob('funsd_dataset/rotate/0/*.png')\n",
        "os.makedirs('funsd_dataset/rotate/90', exist_ok=True)\n",
        "os.makedirs('funsd_dataset/rotate/180', exist_ok=True)\n",
        "os.makedirs('funsd_dataset/rotate/270', exist_ok=True)\n",
        "for angle in [90,180,270]:\n",
        "  for im in images:\n",
        "    img = Image.open(im)\n",
        "    imname = os.path.basename(im)\n",
        "    save_path = os.path.join('funsd_dataset/rotate/'+str(angle)+'/'+imname)\n",
        "    img.rotate(angle).save(save_path)"
      ],
      "execution_count": 0,
      "outputs": []
    },
    {
      "cell_type": "markdown",
      "metadata": {
        "id": "jNkRKuBV3bIk",
        "colab_type": "text"
      },
      "source": [
        "# Orientation Prediction Model\n",
        "\n",
        "Basic Classifier to predict the angle of orientation"
      ]
    },
    {
      "cell_type": "code",
      "metadata": {
        "id": "CMq0AxAa0xLP",
        "colab_type": "code",
        "colab": {}
      },
      "source": [
        "def get_model():\n",
        "  inputs = "
      ],
      "execution_count": 0,
      "outputs": []
    },
    {
      "cell_type": "code",
      "metadata": {
        "id": "0GK_u7Y72vr7",
        "colab_type": "code",
        "colab": {}
      },
      "source": [
        "tf.__version__"
      ],
      "execution_count": 0,
      "outputs": []
    },
    {
      "cell_type": "code",
      "metadata": {
        "id": "wClVXaAw_B--",
        "colab_type": "code",
        "colab": {}
      },
      "source": [
        "import pathlib\n",
        "datadir = pathlib.Path('funsd_dataset/rotate')"
      ],
      "execution_count": 0,
      "outputs": []
    },
    {
      "cell_type": "code",
      "metadata": {
        "id": "W59KEc0B_lKr",
        "colab_type": "code",
        "colab": {}
      },
      "source": [
        "image_count = len(list(datadir.glob('*/*.png')))\n",
        "image_count"
      ],
      "execution_count": 0,
      "outputs": []
    },
    {
      "cell_type": "code",
      "metadata": {
        "id": "d2R2FZ8a_obl",
        "colab_type": "code",
        "colab": {}
      },
      "source": [
        "CLASS_NAMES = np.array([item.name for item in datadir.glob('*')])\n",
        "CLASS_NAMES"
      ],
      "execution_count": 0,
      "outputs": []
    },
    {
      "cell_type": "code",
      "metadata": {
        "id": "kTk9n8Io_tTK",
        "colab_type": "code",
        "colab": {}
      },
      "source": [
        ""
      ],
      "execution_count": 0,
      "outputs": []
    }
  ]
}