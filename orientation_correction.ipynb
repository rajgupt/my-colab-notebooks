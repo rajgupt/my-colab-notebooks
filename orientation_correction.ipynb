{
  "nbformat": 4,
  "nbformat_minor": 0,
  "metadata": {
    "colab": {
      "name": "orientation-correction.ipynb",
      "provenance": [],
      "private_outputs": true,
      "collapsed_sections": [],
      "mount_file_id": "13kdXjhQ9HYUid9OkGTxuLuZh1pk8HuGV",
      "authorship_tag": "ABX9TyOrhLIEJXGytygMGvieQOey",
      "include_colab_link": true
    },
    "kernelspec": {
      "name": "python3",
      "display_name": "Python 3"
    },
    "accelerator": "GPU"
  },
  "cells": [
    {
      "cell_type": "markdown",
      "metadata": {
        "id": "view-in-github",
        "colab_type": "text"
      },
      "source": [
        "<a href=\"https://colab.research.google.com/github/rajgupt/my-colab-notebooks/blob/master/orientation_correction.ipynb\" target=\"_parent\"><img src=\"https://colab.research.google.com/assets/colab-badge.svg\" alt=\"Open In Colab\"/></a>"
      ]
    },
    {
      "cell_type": "code",
      "metadata": {
        "id": "LwMg0oic-V8H",
        "colab_type": "code",
        "colab": {}
      },
      "source": [
        "%tensorflow_version 2.x\n",
        "import tensorflow as tf\n",
        "print(\"Tensorflow version \" + tf.__version__)\n",
        "\n",
        "try:\n",
        "  tpu = tf.distribute.cluster_resolver.TPUClusterResolver()  # TPU detection\n",
        "  print('Running on TPU ', tpu.cluster_spec().as_dict()['worker'])\n",
        "except ValueError:\n",
        "  raise BaseException('ERROR: Not connected to a TPU runtime; please see the previous cell in this notebook for instructions!')\n",
        "\n",
        "tf.config.experimental_connect_to_cluster(tpu)\n",
        "tf.tpu.experimental.initialize_tpu_system(tpu)\n",
        "tpu_strategy = tf.distribute.experimental.TPUStrategy(tpu)"
      ],
      "execution_count": 0,
      "outputs": []
    },
    {
      "cell_type": "code",
      "metadata": {
        "id": "HFAmNbVONExh",
        "colab_type": "code",
        "colab": {}
      },
      "source": [
        "%tensorflow_version 2.x\n",
        "import tensorflow as tf\n",
        "device_name = tf.test.gpu_device_name()\n",
        "if device_name != '/device:GPU:0':\n",
        "  raise SystemError('GPU device not found')\n",
        "print('Found GPU at: {}'.format(device_name))"
      ],
      "execution_count": 0,
      "outputs": []
    },
    {
      "cell_type": "code",
      "metadata": {
        "id": "PSHr1HbLx4ZP",
        "colab_type": "code",
        "colab": {}
      },
      "source": [
        "import os\n",
        "import numpy as np\n",
        "import IPython.display as display\n",
        "import matplotlib.pyplot as plt\n",
        "import tensorflow as tf\n",
        "from tensorflow import keras\n",
        "from tensorflow.keras import layers\n",
        "from keras.preprocessing.image import ImageDataGenerator\n",
        "from keras.applications.inception_v3 import preprocess_input\n",
        "from PIL import Image"
      ],
      "execution_count": 0,
      "outputs": []
    },
    {
      "cell_type": "code",
      "metadata": {
        "id": "z8zOCt1TJvou",
        "colab_type": "code",
        "colab": {}
      },
      "source": [
        "# Ref: https://d4nst.github.io/2017/01/12/image-orientation/"
      ],
      "execution_count": 0,
      "outputs": []
    },
    {
      "cell_type": "code",
      "metadata": {
        "id": "Lc-Y6m_cyLsa",
        "colab_type": "code",
        "colab": {}
      },
      "source": [
        "os.chdir('/content/drive/My Drive/colab/data')"
      ],
      "execution_count": 0,
      "outputs": []
    },
    {
      "cell_type": "code",
      "metadata": {
        "id": "0QsjE5IFyNBG",
        "colab_type": "code",
        "colab": {}
      },
      "source": [
        "!ls"
      ],
      "execution_count": 0,
      "outputs": []
    },
    {
      "cell_type": "markdown",
      "metadata": {
        "id": "PsfAfnaDy3yF",
        "colab_type": "text"
      },
      "source": [
        "Data source: https://guillaumejaume.github.io/FUNSD/dataset.zip"
      ]
    },
    {
      "cell_type": "markdown",
      "metadata": {
        "id": "dxdhSDGm3D18",
        "colab_type": "text"
      },
      "source": [
        "# Dataset Preparation"
      ]
    },
    {
      "cell_type": "code",
      "metadata": {
        "id": "2ftYmvB8-bHy",
        "colab_type": "code",
        "colab": {}
      },
      "source": [
        "!mkdir -p funsd_dataset/rotate/train/0"
      ],
      "execution_count": 0,
      "outputs": []
    },
    {
      "cell_type": "code",
      "metadata": {
        "id": "f9FH8qEu-gx_",
        "colab_type": "code",
        "colab": {}
      },
      "source": [
        "!cp funsd_dataset/training_data/images/* funsd_dataset/rotate/train/0/"
      ],
      "execution_count": 0,
      "outputs": []
    },
    {
      "cell_type": "code",
      "metadata": {
        "id": "42QvNYUS0w69",
        "colab_type": "code",
        "colab": {}
      },
      "source": [
        "from PIL import Image\n",
        "import glob\n",
        "# if not os.path.exists('funsd_dataset/rotate'):\n",
        "images = glob.glob('funsd_dataset/rotate/train/0/*.png')\n",
        "os.makedirs('funsd_dataset/rotate/train/90', exist_ok=True)\n",
        "os.makedirs('funsd_dataset/rotate/train/180', exist_ok=True)\n",
        "os.makedirs('funsd_dataset/rotate/train/270', exist_ok=True)\n",
        "for angle in [90,180,270]:\n",
        "  for im in images:\n",
        "    img = Image.open(im)\n",
        "    imname = os.path.basename(im)\n",
        "    save_path = os.path.join('funsd_dataset/rotate/train/'+str(angle)+'/'+imname)\n",
        "    img.rotate(angle, expand=True).save(save_path)"
      ],
      "execution_count": 0,
      "outputs": []
    },
    {
      "cell_type": "markdown",
      "metadata": {
        "id": "jNkRKuBV3bIk",
        "colab_type": "text"
      },
      "source": [
        "# Orientation Prediction Model\n",
        "\n",
        "Basic Classifier to predict the angle of orientation"
      ]
    },
    {
      "cell_type": "code",
      "metadata": {
        "id": "wClVXaAw_B--",
        "colab_type": "code",
        "colab": {}
      },
      "source": [
        "import pathlib\n",
        "data_dir = pathlib.Path('funsd_dataset/rotate/train')"
      ],
      "execution_count": 0,
      "outputs": []
    },
    {
      "cell_type": "code",
      "metadata": {
        "id": "viBbn6baH3sp",
        "colab_type": "code",
        "colab": {}
      },
      "source": [
        "list_ds = tf.data.Dataset.list_files(str(data_dir/'*/*.png'))\n",
        "list_ds"
      ],
      "execution_count": 0,
      "outputs": []
    },
    {
      "cell_type": "code",
      "metadata": {
        "id": "vddmkMxaH3lz",
        "colab_type": "code",
        "colab": {}
      },
      "source": [
        "CLASS_NAMES = np.array([item.name for item in data_dir.glob('*')])\n",
        "CLASS_NAMES"
      ],
      "execution_count": 0,
      "outputs": []
    },
    {
      "cell_type": "code",
      "metadata": {
        "id": "kTk9n8Io_tTK",
        "colab_type": "code",
        "colab": {}
      },
      "source": [
        "correct = list(data_dir.glob('0/*'))\n",
        "display.display(Image.open(str(correct[0])))"
      ],
      "execution_count": 0,
      "outputs": []
    },
    {
      "cell_type": "code",
      "metadata": {
        "id": "iCMYcW4GAAA4",
        "colab_type": "code",
        "colab": {}
      },
      "source": [
        "train_datagen = ImageDataGenerator(\n",
        "    rotation_range=10,\n",
        "    channel_shift_range=20,\n",
        "    horizontal_flip=True,\n",
        "    preprocessing_function=preprocess_input,\n",
        "    validation_split=0.2\n",
        ")"
      ],
      "execution_count": 0,
      "outputs": []
    },
    {
      "cell_type": "code",
      "metadata": {
        "id": "48pgNpKDAVXj",
        "colab_type": "code",
        "colab": {}
      },
      "source": [
        "BATCH_SIZE = 32\n",
        "IMG_SIZE = 224\n",
        "# STEPS_PER_EPOCH = np.ceil(image_count/BATCH_SIZE)"
      ],
      "execution_count": 0,
      "outputs": []
    },
    {
      "cell_type": "code",
      "metadata": {
        "id": "Nd7m0x1wAaaM",
        "colab_type": "code",
        "colab": {}
      },
      "source": [
        "train_ds = train_datagen.flow_from_directory(\n",
        "    data_dir,\n",
        "    target_size = (IMG_SIZE, IMG_SIZE),\n",
        "    batch_size  = BATCH_SIZE,\n",
        "    color_mode='grayscale',\n",
        "    class_mode  = 'categorical',\n",
        "    interpolation = 'lanczos', # <--------- random crop\n",
        "    shuffle = True,\n",
        "    seed=1337,\n",
        "    subset=\"training\"\n",
        ")\n",
        "\n",
        "val_ds = train_datagen.flow_from_directory(\n",
        "    data_dir,\n",
        "    target_size = (IMG_SIZE, IMG_SIZE),\n",
        "    batch_size  = BATCH_SIZE,\n",
        "    color_mode='grayscale',\n",
        "    class_mode  = 'categorical',\n",
        "    interpolation = 'lanczos', # <--------- random crop\n",
        "    shuffle = True,\n",
        "    seed=1337,\n",
        "    subset=\"validation\"\n",
        ")"
      ],
      "execution_count": 0,
      "outputs": []
    },
    {
      "cell_type": "code",
      "metadata": {
        "id": "ojl8613wAgD5",
        "colab_type": "code",
        "colab": {}
      },
      "source": [
        "def show_batch(image_batch, label_batch):\n",
        "  plt.figure(figsize=(10,10))\n",
        "  for n in range(25):\n",
        "      ax = plt.subplot(5,5,n+1)\n",
        "      plt.imshow(image_batch[n][:,:,0], cmap='gray')\n",
        "      plt.title(CLASS_NAMES[label_batch[n]==1][0].title())\n",
        "      plt.axis('off')"
      ],
      "execution_count": 0,
      "outputs": []
    },
    {
      "cell_type": "code",
      "metadata": {
        "id": "mAPEJIx6Aodo",
        "colab_type": "code",
        "colab": {}
      },
      "source": [
        "image_batch, label_batch = next(train_ds)\n",
        "show_batch(image_batch, label_batch)"
      ],
      "execution_count": 0,
      "outputs": []
    },
    {
      "cell_type": "code",
      "metadata": {
        "id": "yb7t5ukZFyvv",
        "colab_type": "code",
        "colab": {}
      },
      "source": [
        "from tensorflow.keras.layers.experimental.preprocessing import Rescaling, CenterCrop"
      ],
      "execution_count": 0,
      "outputs": []
    },
    {
      "cell_type": "code",
      "metadata": {
        "id": "qXgCK_oiAqhm",
        "colab_type": "code",
        "colab": {}
      },
      "source": [
        "def make_model(input_shape, num_classes):\n",
        "    inputs = keras.Input(shape=input_shape)\n",
        "    # Image augmentation block\n",
        "    # x = data_augmentation(inputs)\n",
        "\n",
        "    # Entry block\n",
        "    x = layers.experimental.preprocessing.Rescaling(1.0 / 255)(inputs)\n",
        "    x = layers.Conv2D(32, 3, strides=2, padding=\"same\")(x)\n",
        "    x = layers.BatchNormalization()(x)\n",
        "    x = layers.Activation(\"relu\")(x)\n",
        "\n",
        "    x = layers.Conv2D(64, 3, padding=\"same\")(x)\n",
        "    x = layers.BatchNormalization()(x)\n",
        "    x = layers.Activation(\"relu\")(x)\n",
        "\n",
        "    previous_block_activation = x  # Set aside residual\n",
        "\n",
        "    for size in [128, 256, 512, 728]:\n",
        "        x = layers.Activation(\"relu\")(x)\n",
        "        x = layers.SeparableConv2D(size, 3, padding=\"same\")(x)\n",
        "        x = layers.BatchNormalization()(x)\n",
        "\n",
        "        x = layers.Activation(\"relu\")(x)\n",
        "        x = layers.SeparableConv2D(size, 3, padding=\"same\")(x)\n",
        "        x = layers.BatchNormalization()(x)\n",
        "\n",
        "        x = layers.MaxPooling2D(3, strides=2, padding=\"same\")(x)\n",
        "\n",
        "        # Project residual\n",
        "        residual = layers.Conv2D(size, 1, strides=2, padding=\"same\")(\n",
        "            previous_block_activation\n",
        "        )\n",
        "        x = layers.add([x, residual])  # Add back residual\n",
        "        previous_block_activation = x  # Set aside next residual\n",
        "\n",
        "    x = layers.SeparableConv2D(1024, 3, padding=\"same\")(x)\n",
        "    x = layers.BatchNormalization()(x)\n",
        "    x = layers.Activation(\"relu\")(x)\n",
        "\n",
        "    x = layers.GlobalAveragePooling2D()(x)\n",
        "    if num_classes == 2:\n",
        "        activation = \"sigmoid\"\n",
        "        units = 1\n",
        "    else:\n",
        "        activation = \"softmax\"\n",
        "        units = num_classes\n",
        "\n",
        "    x = layers.Dropout(0.5)(x)\n",
        "    outputs = layers.Dense(units, activation=activation)(x)\n",
        "    return keras.Model(inputs, outputs)"
      ],
      "execution_count": 0,
      "outputs": []
    },
    {
      "cell_type": "code",
      "metadata": {
        "id": "tIOnn1hR0HEn",
        "colab_type": "code",
        "colab": {}
      },
      "source": [
        "train_ds[0][0].shape, train_ds[0][1].shape"
      ],
      "execution_count": 0,
      "outputs": []
    },
    {
      "cell_type": "code",
      "metadata": {
        "id": "hcGe-JkcffnN",
        "colab_type": "code",
        "colab": {}
      },
      "source": [
        "train_tfds = tf.data.Dataset.from_generator(train_datagen.flow_from_directory,\n",
        "                                            (tf.int64, tf.int64), \n",
        "                                            (tf.TensorShape([32,224,224,1]), tf.TensorShape([32,4])), args=[str(datadir)]) \n",
        "train_tfds"
      ],
      "execution_count": 0,
      "outputs": []
    },
    {
      "cell_type": "code",
      "metadata": {
        "id": "6-FW3_HA4eT2",
        "colab_type": "code",
        "colab": {}
      },
      "source": [
        "list(train_tfds.take(1).as_numpy_iterator()) "
      ],
      "execution_count": 0,
      "outputs": []
    },
    {
      "cell_type": "code",
      "metadata": {
        "id": "GlKrXS_0dB38",
        "colab_type": "code",
        "colab": {}
      },
      "source": [
        "# with tpu_strategy.scope(): # creating the model in the TPUStrategy scope means we will train the model on the TPU\n",
        "#   model = make_model((IMG_SIZE,IMG_SIZE,1), 4)\n",
        "#   epochs = 1\n",
        "#   model.summary()\n",
        "\n",
        "#   callbacks = [\n",
        "#       keras.callbacks.ModelCheckpoint(\"save_at_{epoch}.h5\"),\n",
        "#   ]\n",
        "#   model.compile(\n",
        "#       optimizer=keras.optimizers.Adam(1e-3),\n",
        "#       loss=\"binary_crossentropy\",\n",
        "#       metrics=[\"accuracy\"],\n",
        "#   )\n",
        "#   model.fit(\n",
        "#       train_tfds, epochs=epochs, callbacks=callbacks, validation_data=val_ds,\n",
        "#   )"
      ],
      "execution_count": 0,
      "outputs": []
    },
    {
      "cell_type": "code",
      "metadata": {
        "id": "tHcbSsAQFvep",
        "colab_type": "code",
        "colab": {}
      },
      "source": [
        "with tf.device('/device:GPU:0'):\n",
        "  model = make_model((IMG_SIZE,IMG_SIZE,1), 4)\n",
        "  epochs = 1\n",
        "  model.summary()\n",
        "  callbacks = [\n",
        "      keras.callbacks.ModelCheckpoint(\"save_at_{epoch}.h5\"),\n",
        "  ]\n",
        "  model.compile(\n",
        "      optimizer=keras.optimizers.Adam(1e-3),\n",
        "      loss=\"binary_crossentropy\",\n",
        "      metrics=[\"accuracy\"],\n",
        "  )\n",
        "  model.fit(\n",
        "      train_ds, epochs=epochs, callbacks=callbacks, validation_data=val_ds,\n",
        "  )"
      ],
      "execution_count": 0,
      "outputs": []
    },
    {
      "cell_type": "code",
      "metadata": {
        "id": "qFi-Ve8J4tUw",
        "colab_type": "code",
        "colab": {}
      },
      "source": [
        ""
      ],
      "execution_count": 0,
      "outputs": []
    }
  ]
}